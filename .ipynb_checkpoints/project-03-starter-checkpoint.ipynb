{
 "cells": [
  {
   "cell_type": "markdown",
   "metadata": {},
   "source": [
    "<img src=\"http://imgur.com/1ZcRyrc.png\" style=\"float: left; margin: 15px; height: 80px\">\n",
    "\n",
    "# Project 3\n",
    "\n",
    "### Regression and Classification with the Ames Housing Data\n",
    "\n",
    "---\n",
    "\n",
    "You have just joined a new \"full stack\" real estate company in Ames, Iowa. The strategy of the firm is two-fold:\n",
    "# Own the entire process from the purchase of the land all the way to sale of the house, and anything in between.\n",
    "# Use statistical analysis to optimize investment and maximize return.\n",
    "\n",
    "The company is still small, and though investment is substantial the short-term goals of the company are more oriented towards purchasing existing houses and flipping them as opposed to constructing entirely new houses. That being said, the company has access to a large construction workforce operating at rock-bottom prices.\n",
    "\n",
    "This project uses the [Ames housing data recently made available on kaggle](https://www.kaggle.com/c/house-prices-advanced-regression-techniques)."
   ]
  },
  {
   "cell_type": "code",
   "execution_count": 381,
   "metadata": {
    "collapsed": true
   },
   "outputs": [],
   "source": [
    "import numpy as np\n",
    "import scipy.stats as stats\n",
    "import seaborn as sns\n",
    "import matplotlib.pyplot as plt\n",
    "import pandas as pd\n",
    "\n",
    "sns.set_style('whitegrid')\n",
    "\n",
    "%config InlineBackend.figure_format = 'retina'\n",
    "%matplotlib inline"
   ]
  },
  {
   "cell_type": "markdown",
   "metadata": {},
   "source": [
    "<img src=\"http://imgur.com/l5NasQj.png\" style=\"float: left; margin: 25px 15px 0px 0px; height: 25px\">\n",
    "\n",
    "## 1. Estimating the value of homes from fixed characteristics.\n",
    "\n",
    "---\n",
    "\n",
    "Your superiors have outlined this year's strategy for the company:\n",
    "1. Develop an algorithm to reliably estimate the value of residential houses based on *fixed* characteristics.\n",
    "2. Identify characteristics of houses that the company can cost-effectively change/renovate with their construction team.\n",
    "3. Evaluate the mean dollar value of different renovations.\n",
    "\n",
    "Then we can use that to buy houses that are likely to sell for more than the cost of the purchase plus renovations.\n",
    "\n",
    "Your first job is to tackle #1. You have a dataset of housing sale data with a huge amount of features identifying different aspects of the house. The full description of the data features can be found in a separate file:\n",
    "\n",
    "    housing.csv\n",
    "    data_description.txt\n",
    "    \n",
    "You need to build a reliable estimator for the price of the house given characteristics of the house that cannot be renovated. Some examples include:\n",
    "- The neighborhood\n",
    "- Square feet\n",
    "- Bedrooms, bathrooms\n",
    "- Basement and garage space\n",
    "\n",
    "and many more. \n",
    "\n",
    "Some examples of things that **ARE renovate-able:**\n",
    "- Roof and exterior features\n",
    "- \"Quality\" metrics, such as kitchen quality\n",
    "- \"Condition\" metrics, such as condition of garage\n",
    "- Heating and electrical components\n",
    "\n",
    "and generally anything you deem can be modified without having to undergo major construction on the house.\n",
    "\n",
    "---\n",
    "\n",
    "**Your goals:**\n",
    "1. Perform any cleaning, feature engineering, and EDA you deem necessary.\n",
    "- Be sure to remove any houses that are not residential from the dataset.\n",
    "- Identify **fixed** features that can predict price.\n",
    "- Train a model on pre-2010 data and evaluate its performance on the 2010 houses.\n",
    "- Characterize your model. How well does it perform? What are the best estimates of price?\n",
    "\n",
    "> **Note:** The EDA and feature engineering component to this project is not trivial! Be sure to always think critically and creatively. Justify your actions! Use the data description file!"
   ]
  },
  {
   "cell_type": "code",
   "execution_count": 382,
   "metadata": {
    "collapsed": true
   },
   "outputs": [],
   "source": [
    "# Load the data\n",
    "house = pd.read_csv('./housing.csv')"
   ]
  },
  {
   "cell_type": "code",
   "execution_count": 383,
   "metadata": {},
   "outputs": [
    {
     "data": {
      "text/html": [
       "<div>\n",
       "<table border=\"1\" class=\"dataframe\">\n",
       "  <thead>\n",
       "    <tr style=\"text-align: right;\">\n",
       "      <th></th>\n",
       "      <th>Id</th>\n",
       "      <th>MSSubClass</th>\n",
       "      <th>MSZoning</th>\n",
       "      <th>LotFrontage</th>\n",
       "      <th>LotArea</th>\n",
       "      <th>Street</th>\n",
       "      <th>Alley</th>\n",
       "      <th>LotShape</th>\n",
       "      <th>LandContour</th>\n",
       "      <th>Utilities</th>\n",
       "      <th>...</th>\n",
       "      <th>PoolArea</th>\n",
       "      <th>PoolQC</th>\n",
       "      <th>Fence</th>\n",
       "      <th>MiscFeature</th>\n",
       "      <th>MiscVal</th>\n",
       "      <th>MoSold</th>\n",
       "      <th>YrSold</th>\n",
       "      <th>SaleType</th>\n",
       "      <th>SaleCondition</th>\n",
       "      <th>SalePrice</th>\n",
       "    </tr>\n",
       "  </thead>\n",
       "  <tbody>\n",
       "    <tr>\n",
       "      <th>0</th>\n",
       "      <td>1</td>\n",
       "      <td>60</td>\n",
       "      <td>RL</td>\n",
       "      <td>65.0</td>\n",
       "      <td>8450</td>\n",
       "      <td>Pave</td>\n",
       "      <td>NaN</td>\n",
       "      <td>Reg</td>\n",
       "      <td>Lvl</td>\n",
       "      <td>AllPub</td>\n",
       "      <td>...</td>\n",
       "      <td>0</td>\n",
       "      <td>NaN</td>\n",
       "      <td>NaN</td>\n",
       "      <td>NaN</td>\n",
       "      <td>0</td>\n",
       "      <td>2</td>\n",
       "      <td>2008</td>\n",
       "      <td>WD</td>\n",
       "      <td>Normal</td>\n",
       "      <td>208500</td>\n",
       "    </tr>\n",
       "    <tr>\n",
       "      <th>1</th>\n",
       "      <td>2</td>\n",
       "      <td>20</td>\n",
       "      <td>RL</td>\n",
       "      <td>80.0</td>\n",
       "      <td>9600</td>\n",
       "      <td>Pave</td>\n",
       "      <td>NaN</td>\n",
       "      <td>Reg</td>\n",
       "      <td>Lvl</td>\n",
       "      <td>AllPub</td>\n",
       "      <td>...</td>\n",
       "      <td>0</td>\n",
       "      <td>NaN</td>\n",
       "      <td>NaN</td>\n",
       "      <td>NaN</td>\n",
       "      <td>0</td>\n",
       "      <td>5</td>\n",
       "      <td>2007</td>\n",
       "      <td>WD</td>\n",
       "      <td>Normal</td>\n",
       "      <td>181500</td>\n",
       "    </tr>\n",
       "  </tbody>\n",
       "</table>\n",
       "<p>2 rows × 81 columns</p>\n",
       "</div>"
      ],
      "text/plain": [
       "   Id  MSSubClass MSZoning  LotFrontage  LotArea Street Alley LotShape  \\\n",
       "0   1          60       RL         65.0     8450   Pave   NaN      Reg   \n",
       "1   2          20       RL         80.0     9600   Pave   NaN      Reg   \n",
       "\n",
       "  LandContour Utilities    ...     PoolArea PoolQC Fence MiscFeature MiscVal  \\\n",
       "0         Lvl    AllPub    ...            0    NaN   NaN         NaN       0   \n",
       "1         Lvl    AllPub    ...            0    NaN   NaN         NaN       0   \n",
       "\n",
       "  MoSold YrSold  SaleType  SaleCondition  SalePrice  \n",
       "0      2   2008        WD         Normal     208500  \n",
       "1      5   2007        WD         Normal     181500  \n",
       "\n",
       "[2 rows x 81 columns]"
      ]
     },
     "execution_count": 383,
     "metadata": {},
     "output_type": "execute_result"
    }
   ],
   "source": [
    "# A:\n",
    "house.head(2)"
   ]
  },
  {
   "cell_type": "code",
   "execution_count": 384,
   "metadata": {},
   "outputs": [
    {
     "data": {
      "text/plain": [
       "80"
      ]
     },
     "execution_count": 384,
     "metadata": {},
     "output_type": "execute_result"
    }
   ],
   "source": [
    "fixed_list = ['MSSubClass', 'MSZoning', 'LotFrontage', 'LotArea', 'Street',\n",
    "              'Alley', 'LotShape', 'LandContour', 'Utilities', 'LotConfig',\n",
    "              'LandSlope', 'Neighborhood', 'Condition1', 'Condition2', 'BldgType', \n",
    "              'HouseStyle', 'YearBuilt', 'Foundation', 'BsmtQual',  'TotalBsmtSF',\n",
    "              'LowQualFinSF', '1stFlrSF', '2ndFlrSF', 'GrLivArea', 'BsmtFullBath',\n",
    "              'BsmtHalfBath', 'FullBath', 'HalfBath', 'BedroomAbvGr', 'KitchenAbvGr',\n",
    "              'TotRmsAbvGrd', 'Fireplaces', 'GarageType', 'GarageYrBlt', 'GarageCars',\n",
    "              'GarageArea']\n",
    "\n",
    "renov_list = ['OverallQual', 'OverallCond', 'YearRemodAdd', 'RoofStyle', 'RoofMatl',\n",
    "              'Exterior1st', 'Exterior2nd', 'MasVnrType', 'MasVnrArea', 'ExterQual', \n",
    "              'ExterCond', 'BsmtCond', 'BsmtExposure', 'BsmtFinType1', 'BsmtFinSF1', \n",
    "              'BsmtFinSF2', 'BsmtFinType2', 'BsmtUnfSF', 'Heating', 'HeatingQC', \n",
    "              'CentralAir', 'Electrical', 'KitchenQual', 'Functional', 'FireplaceQu', \n",
    "              'GarageFinish', 'GarageQual', 'ScreenPorch', 'GarageCond', 'PavedDrive', \n",
    "              'WoodDeckSF', 'OpenPorchSF', 'EnclosedPorch', '3SsnPorch', 'PoolArea', \n",
    "              'PoolQC', 'Fence', 'MiscFeature', 'MiscVal']\n",
    "\n",
    "extra = ['MoSold', 'YrSold', 'SaleType', 'SaleCondition', 'SalePrice']\n",
    "\n",
    "len(fixed_list) + len(renov_list) + len(extra)"
   ]
  },
  {
   "cell_type": "code",
   "execution_count": 385,
   "metadata": {
    "collapsed": true
   },
   "outputs": [],
   "source": [
    "# Getting a subset of only residential, determined by MSZoning\n",
    "res = house[house.MSZoning.str.contains('R')]"
   ]
  },
  {
   "cell_type": "code",
   "execution_count": 386,
   "metadata": {},
   "outputs": [
    {
     "data": {
      "text/html": [
       "<div>\n",
       "<table border=\"1\" class=\"dataframe\">\n",
       "  <thead>\n",
       "    <tr style=\"text-align: right;\">\n",
       "      <th></th>\n",
       "      <th>Id</th>\n",
       "      <th>MSSubClass</th>\n",
       "      <th>MSZoning</th>\n",
       "      <th>LotFrontage</th>\n",
       "      <th>LotArea</th>\n",
       "      <th>Street</th>\n",
       "      <th>Alley</th>\n",
       "      <th>LotShape</th>\n",
       "      <th>LandContour</th>\n",
       "      <th>Utilities</th>\n",
       "      <th>...</th>\n",
       "      <th>PoolArea</th>\n",
       "      <th>PoolQC</th>\n",
       "      <th>Fence</th>\n",
       "      <th>MiscFeature</th>\n",
       "      <th>MiscVal</th>\n",
       "      <th>MoSold</th>\n",
       "      <th>YrSold</th>\n",
       "      <th>SaleType</th>\n",
       "      <th>SaleCondition</th>\n",
       "      <th>SalePrice</th>\n",
       "    </tr>\n",
       "  </thead>\n",
       "  <tbody>\n",
       "    <tr>\n",
       "      <th>0</th>\n",
       "      <td>1</td>\n",
       "      <td>60</td>\n",
       "      <td>RL</td>\n",
       "      <td>65.0</td>\n",
       "      <td>8450</td>\n",
       "      <td>Pave</td>\n",
       "      <td>NaN</td>\n",
       "      <td>Reg</td>\n",
       "      <td>Lvl</td>\n",
       "      <td>AllPub</td>\n",
       "      <td>...</td>\n",
       "      <td>0</td>\n",
       "      <td>NaN</td>\n",
       "      <td>NaN</td>\n",
       "      <td>NaN</td>\n",
       "      <td>0</td>\n",
       "      <td>2</td>\n",
       "      <td>2008</td>\n",
       "      <td>WD</td>\n",
       "      <td>Normal</td>\n",
       "      <td>208500</td>\n",
       "    </tr>\n",
       "    <tr>\n",
       "      <th>1</th>\n",
       "      <td>2</td>\n",
       "      <td>20</td>\n",
       "      <td>RL</td>\n",
       "      <td>80.0</td>\n",
       "      <td>9600</td>\n",
       "      <td>Pave</td>\n",
       "      <td>NaN</td>\n",
       "      <td>Reg</td>\n",
       "      <td>Lvl</td>\n",
       "      <td>AllPub</td>\n",
       "      <td>...</td>\n",
       "      <td>0</td>\n",
       "      <td>NaN</td>\n",
       "      <td>NaN</td>\n",
       "      <td>NaN</td>\n",
       "      <td>0</td>\n",
       "      <td>5</td>\n",
       "      <td>2007</td>\n",
       "      <td>WD</td>\n",
       "      <td>Normal</td>\n",
       "      <td>181500</td>\n",
       "    </tr>\n",
       "  </tbody>\n",
       "</table>\n",
       "<p>2 rows × 81 columns</p>\n",
       "</div>"
      ],
      "text/plain": [
       "   Id  MSSubClass MSZoning  LotFrontage  LotArea Street Alley LotShape  \\\n",
       "0   1          60       RL         65.0     8450   Pave   NaN      Reg   \n",
       "1   2          20       RL         80.0     9600   Pave   NaN      Reg   \n",
       "\n",
       "  LandContour Utilities    ...     PoolArea PoolQC Fence MiscFeature MiscVal  \\\n",
       "0         Lvl    AllPub    ...            0    NaN   NaN         NaN       0   \n",
       "1         Lvl    AllPub    ...            0    NaN   NaN         NaN       0   \n",
       "\n",
       "  MoSold YrSold  SaleType  SaleCondition  SalePrice  \n",
       "0      2   2008        WD         Normal     208500  \n",
       "1      5   2007        WD         Normal     181500  \n",
       "\n",
       "[2 rows x 81 columns]"
      ]
     },
     "execution_count": 386,
     "metadata": {},
     "output_type": "execute_result"
    }
   ],
   "source": [
    "res.head(2)"
   ]
  },
  {
   "cell_type": "code",
   "execution_count": 387,
   "metadata": {},
   "outputs": [
    {
     "data": {
      "text/plain": [
       "(1385, 81)"
      ]
     },
     "execution_count": 387,
     "metadata": {},
     "output_type": "execute_result"
    }
   ],
   "source": [
    "res.shape"
   ]
  },
  {
   "cell_type": "code",
   "execution_count": 388,
   "metadata": {},
   "outputs": [
    {
     "data": {
      "text/html": [
       "<div>\n",
       "<table border=\"1\" class=\"dataframe\">\n",
       "  <thead>\n",
       "    <tr style=\"text-align: right;\">\n",
       "      <th></th>\n",
       "      <th>Id</th>\n",
       "      <th>MSSubClass</th>\n",
       "      <th>LotFrontage</th>\n",
       "      <th>LotArea</th>\n",
       "      <th>OverallQual</th>\n",
       "      <th>OverallCond</th>\n",
       "      <th>YearBuilt</th>\n",
       "      <th>YearRemodAdd</th>\n",
       "      <th>MasVnrArea</th>\n",
       "      <th>BsmtFinSF1</th>\n",
       "      <th>...</th>\n",
       "      <th>WoodDeckSF</th>\n",
       "      <th>OpenPorchSF</th>\n",
       "      <th>EnclosedPorch</th>\n",
       "      <th>3SsnPorch</th>\n",
       "      <th>ScreenPorch</th>\n",
       "      <th>PoolArea</th>\n",
       "      <th>MiscVal</th>\n",
       "      <th>MoSold</th>\n",
       "      <th>YrSold</th>\n",
       "      <th>SalePrice</th>\n",
       "    </tr>\n",
       "  </thead>\n",
       "  <tbody>\n",
       "    <tr>\n",
       "      <th>count</th>\n",
       "      <td>1385.000000</td>\n",
       "      <td>1385.000000</td>\n",
       "      <td>1134.000000</td>\n",
       "      <td>1385.000000</td>\n",
       "      <td>1385.000000</td>\n",
       "      <td>1385.000000</td>\n",
       "      <td>1385.000000</td>\n",
       "      <td>1385.000000</td>\n",
       "      <td>1380.000000</td>\n",
       "      <td>1385.000000</td>\n",
       "      <td>...</td>\n",
       "      <td>1385.000000</td>\n",
       "      <td>1385.000000</td>\n",
       "      <td>1385.000000</td>\n",
       "      <td>1385.000000</td>\n",
       "      <td>1385.000000</td>\n",
       "      <td>1385.000000</td>\n",
       "      <td>1385.000000</td>\n",
       "      <td>1385.000000</td>\n",
       "      <td>1385.000000</td>\n",
       "      <td>1385.000000</td>\n",
       "    </tr>\n",
       "    <tr>\n",
       "      <th>mean</th>\n",
       "      <td>732.506137</td>\n",
       "      <td>55.328520</td>\n",
       "      <td>70.583774</td>\n",
       "      <td>10706.158845</td>\n",
       "      <td>6.063538</td>\n",
       "      <td>5.607942</td>\n",
       "      <td>1970.048375</td>\n",
       "      <td>1984.121300</td>\n",
       "      <td>102.768841</td>\n",
       "      <td>450.666426</td>\n",
       "      <td>...</td>\n",
       "      <td>96.589170</td>\n",
       "      <td>43.865704</td>\n",
       "      <td>22.547292</td>\n",
       "      <td>3.594224</td>\n",
       "      <td>15.662094</td>\n",
       "      <td>2.908303</td>\n",
       "      <td>45.400722</td>\n",
       "      <td>6.314079</td>\n",
       "      <td>2007.810830</td>\n",
       "      <td>180136.283032</td>\n",
       "    </tr>\n",
       "    <tr>\n",
       "      <th>std</th>\n",
       "      <td>422.536319</td>\n",
       "      <td>40.883271</td>\n",
       "      <td>24.251032</td>\n",
       "      <td>10185.732173</td>\n",
       "      <td>1.373366</td>\n",
       "      <td>1.125799</td>\n",
       "      <td>29.831024</td>\n",
       "      <td>20.554236</td>\n",
       "      <td>174.373232</td>\n",
       "      <td>459.231291</td>\n",
       "      <td>...</td>\n",
       "      <td>126.994291</td>\n",
       "      <td>63.585425</td>\n",
       "      <td>62.067644</td>\n",
       "      <td>30.090182</td>\n",
       "      <td>56.883779</td>\n",
       "      <td>41.246294</td>\n",
       "      <td>509.097441</td>\n",
       "      <td>2.695583</td>\n",
       "      <td>1.326813</td>\n",
       "      <td>79906.363281</td>\n",
       "    </tr>\n",
       "    <tr>\n",
       "      <th>min</th>\n",
       "      <td>1.000000</td>\n",
       "      <td>20.000000</td>\n",
       "      <td>21.000000</td>\n",
       "      <td>1300.000000</td>\n",
       "      <td>1.000000</td>\n",
       "      <td>1.000000</td>\n",
       "      <td>1872.000000</td>\n",
       "      <td>1950.000000</td>\n",
       "      <td>0.000000</td>\n",
       "      <td>0.000000</td>\n",
       "      <td>...</td>\n",
       "      <td>0.000000</td>\n",
       "      <td>0.000000</td>\n",
       "      <td>0.000000</td>\n",
       "      <td>0.000000</td>\n",
       "      <td>0.000000</td>\n",
       "      <td>0.000000</td>\n",
       "      <td>0.000000</td>\n",
       "      <td>1.000000</td>\n",
       "      <td>2006.000000</td>\n",
       "      <td>37900.000000</td>\n",
       "    </tr>\n",
       "    <tr>\n",
       "      <th>25%</th>\n",
       "      <td>365.000000</td>\n",
       "      <td>20.000000</td>\n",
       "      <td>60.000000</td>\n",
       "      <td>7711.000000</td>\n",
       "      <td>5.000000</td>\n",
       "      <td>5.000000</td>\n",
       "      <td>1953.000000</td>\n",
       "      <td>1966.000000</td>\n",
       "      <td>0.000000</td>\n",
       "      <td>0.000000</td>\n",
       "      <td>...</td>\n",
       "      <td>0.000000</td>\n",
       "      <td>0.000000</td>\n",
       "      <td>0.000000</td>\n",
       "      <td>0.000000</td>\n",
       "      <td>0.000000</td>\n",
       "      <td>0.000000</td>\n",
       "      <td>0.000000</td>\n",
       "      <td>5.000000</td>\n",
       "      <td>2007.000000</td>\n",
       "      <td>129000.000000</td>\n",
       "    </tr>\n",
       "    <tr>\n",
       "      <th>50%</th>\n",
       "      <td>734.000000</td>\n",
       "      <td>50.000000</td>\n",
       "      <td>70.000000</td>\n",
       "      <td>9591.000000</td>\n",
       "      <td>6.000000</td>\n",
       "      <td>5.000000</td>\n",
       "      <td>1971.000000</td>\n",
       "      <td>1992.000000</td>\n",
       "      <td>0.000000</td>\n",
       "      <td>387.000000</td>\n",
       "      <td>...</td>\n",
       "      <td>0.000000</td>\n",
       "      <td>22.000000</td>\n",
       "      <td>0.000000</td>\n",
       "      <td>0.000000</td>\n",
       "      <td>0.000000</td>\n",
       "      <td>0.000000</td>\n",
       "      <td>0.000000</td>\n",
       "      <td>6.000000</td>\n",
       "      <td>2008.000000</td>\n",
       "      <td>160000.000000</td>\n",
       "    </tr>\n",
       "    <tr>\n",
       "      <th>75%</th>\n",
       "      <td>1101.000000</td>\n",
       "      <td>70.000000</td>\n",
       "      <td>80.000000</td>\n",
       "      <td>11751.000000</td>\n",
       "      <td>7.000000</td>\n",
       "      <td>6.000000</td>\n",
       "      <td>1999.000000</td>\n",
       "      <td>2003.000000</td>\n",
       "      <td>168.000000</td>\n",
       "      <td>719.000000</td>\n",
       "      <td>...</td>\n",
       "      <td>169.000000</td>\n",
       "      <td>64.000000</td>\n",
       "      <td>0.000000</td>\n",
       "      <td>0.000000</td>\n",
       "      <td>0.000000</td>\n",
       "      <td>0.000000</td>\n",
       "      <td>0.000000</td>\n",
       "      <td>8.000000</td>\n",
       "      <td>2009.000000</td>\n",
       "      <td>212900.000000</td>\n",
       "    </tr>\n",
       "    <tr>\n",
       "      <th>max</th>\n",
       "      <td>1460.000000</td>\n",
       "      <td>190.000000</td>\n",
       "      <td>313.000000</td>\n",
       "      <td>215245.000000</td>\n",
       "      <td>10.000000</td>\n",
       "      <td>9.000000</td>\n",
       "      <td>2010.000000</td>\n",
       "      <td>2010.000000</td>\n",
       "      <td>1378.000000</td>\n",
       "      <td>5644.000000</td>\n",
       "      <td>...</td>\n",
       "      <td>857.000000</td>\n",
       "      <td>547.000000</td>\n",
       "      <td>552.000000</td>\n",
       "      <td>508.000000</td>\n",
       "      <td>480.000000</td>\n",
       "      <td>738.000000</td>\n",
       "      <td>15500.000000</td>\n",
       "      <td>12.000000</td>\n",
       "      <td>2010.000000</td>\n",
       "      <td>755000.000000</td>\n",
       "    </tr>\n",
       "  </tbody>\n",
       "</table>\n",
       "<p>8 rows × 38 columns</p>\n",
       "</div>"
      ],
      "text/plain": [
       "                Id   MSSubClass  LotFrontage        LotArea  OverallQual  \\\n",
       "count  1385.000000  1385.000000  1134.000000    1385.000000  1385.000000   \n",
       "mean    732.506137    55.328520    70.583774   10706.158845     6.063538   \n",
       "std     422.536319    40.883271    24.251032   10185.732173     1.373366   \n",
       "min       1.000000    20.000000    21.000000    1300.000000     1.000000   \n",
       "25%     365.000000    20.000000    60.000000    7711.000000     5.000000   \n",
       "50%     734.000000    50.000000    70.000000    9591.000000     6.000000   \n",
       "75%    1101.000000    70.000000    80.000000   11751.000000     7.000000   \n",
       "max    1460.000000   190.000000   313.000000  215245.000000    10.000000   \n",
       "\n",
       "       OverallCond    YearBuilt  YearRemodAdd   MasVnrArea   BsmtFinSF1  \\\n",
       "count  1385.000000  1385.000000   1385.000000  1380.000000  1385.000000   \n",
       "mean      5.607942  1970.048375   1984.121300   102.768841   450.666426   \n",
       "std       1.125799    29.831024     20.554236   174.373232   459.231291   \n",
       "min       1.000000  1872.000000   1950.000000     0.000000     0.000000   \n",
       "25%       5.000000  1953.000000   1966.000000     0.000000     0.000000   \n",
       "50%       5.000000  1971.000000   1992.000000     0.000000   387.000000   \n",
       "75%       6.000000  1999.000000   2003.000000   168.000000   719.000000   \n",
       "max       9.000000  2010.000000   2010.000000  1378.000000  5644.000000   \n",
       "\n",
       "           ...         WoodDeckSF  OpenPorchSF  EnclosedPorch    3SsnPorch  \\\n",
       "count      ...        1385.000000  1385.000000    1385.000000  1385.000000   \n",
       "mean       ...          96.589170    43.865704      22.547292     3.594224   \n",
       "std        ...         126.994291    63.585425      62.067644    30.090182   \n",
       "min        ...           0.000000     0.000000       0.000000     0.000000   \n",
       "25%        ...           0.000000     0.000000       0.000000     0.000000   \n",
       "50%        ...           0.000000    22.000000       0.000000     0.000000   \n",
       "75%        ...         169.000000    64.000000       0.000000     0.000000   \n",
       "max        ...         857.000000   547.000000     552.000000   508.000000   \n",
       "\n",
       "       ScreenPorch     PoolArea       MiscVal       MoSold       YrSold  \\\n",
       "count  1385.000000  1385.000000   1385.000000  1385.000000  1385.000000   \n",
       "mean     15.662094     2.908303     45.400722     6.314079  2007.810830   \n",
       "std      56.883779    41.246294    509.097441     2.695583     1.326813   \n",
       "min       0.000000     0.000000      0.000000     1.000000  2006.000000   \n",
       "25%       0.000000     0.000000      0.000000     5.000000  2007.000000   \n",
       "50%       0.000000     0.000000      0.000000     6.000000  2008.000000   \n",
       "75%       0.000000     0.000000      0.000000     8.000000  2009.000000   \n",
       "max     480.000000   738.000000  15500.000000    12.000000  2010.000000   \n",
       "\n",
       "           SalePrice  \n",
       "count    1385.000000  \n",
       "mean   180136.283032  \n",
       "std     79906.363281  \n",
       "min     37900.000000  \n",
       "25%    129000.000000  \n",
       "50%    160000.000000  \n",
       "75%    212900.000000  \n",
       "max    755000.000000  \n",
       "\n",
       "[8 rows x 38 columns]"
      ]
     },
     "execution_count": 388,
     "metadata": {},
     "output_type": "execute_result"
    }
   ],
   "source": [
    "res.describe()"
   ]
  },
  {
   "cell_type": "code",
   "execution_count": 389,
   "metadata": {},
   "outputs": [
    {
     "data": {
      "text/plain": [
       "Index([u'Id', u'MSSubClass', u'MSZoning', u'LotFrontage', u'LotArea',\n",
       "       u'Street', u'Alley', u'LotShape', u'LandContour', u'Utilities',\n",
       "       u'LotConfig', u'LandSlope', u'Neighborhood', u'Condition1',\n",
       "       u'Condition2', u'BldgType', u'HouseStyle', u'OverallQual',\n",
       "       u'OverallCond', u'YearBuilt', u'YearRemodAdd', u'RoofStyle',\n",
       "       u'RoofMatl', u'Exterior1st', u'Exterior2nd', u'MasVnrType',\n",
       "       u'MasVnrArea', u'ExterQual', u'ExterCond', u'Foundation', u'BsmtQual',\n",
       "       u'BsmtCond', u'BsmtExposure', u'BsmtFinType1', u'BsmtFinSF1',\n",
       "       u'BsmtFinType2', u'BsmtFinSF2', u'BsmtUnfSF', u'TotalBsmtSF',\n",
       "       u'Heating', u'HeatingQC', u'CentralAir', u'Electrical', u'1stFlrSF',\n",
       "       u'2ndFlrSF', u'LowQualFinSF', u'GrLivArea', u'BsmtFullBath',\n",
       "       u'BsmtHalfBath', u'FullBath', u'HalfBath', u'BedroomAbvGr',\n",
       "       u'KitchenAbvGr', u'KitchenQual', u'TotRmsAbvGrd', u'Functional',\n",
       "       u'Fireplaces', u'FireplaceQu', u'GarageType', u'GarageYrBlt',\n",
       "       u'GarageFinish', u'GarageCars', u'GarageArea', u'GarageQual',\n",
       "       u'GarageCond', u'PavedDrive', u'WoodDeckSF', u'OpenPorchSF',\n",
       "       u'EnclosedPorch', u'3SsnPorch', u'ScreenPorch', u'PoolArea', u'PoolQC',\n",
       "       u'Fence', u'MiscFeature', u'MiscVal', u'MoSold', u'YrSold', u'SaleType',\n",
       "       u'SaleCondition', u'SalePrice'],\n",
       "      dtype='object')"
      ]
     },
     "execution_count": 389,
     "metadata": {},
     "output_type": "execute_result"
    }
   ],
   "source": [
    "res.columns"
   ]
  },
  {
   "cell_type": "code",
   "execution_count": 390,
   "metadata": {},
   "outputs": [
    {
     "data": {
      "text/plain": [
       "<matplotlib.axes._subplots.AxesSubplot at 0x12c68e10>"
      ]
     },
     "execution_count": 390,
     "metadata": {},
     "output_type": "execute_result"
    },
    {
     "data": {
      "image/png": "[encoded data removed]",
      "text/plain": [
       "<matplotlib.figure.Figure at 0x12c68a58>"
      ]
     },
     "metadata": {
      "image/png": {
       "height": 262,
       "width": 349
      }
     },
     "output_type": "display_data"
    }
   ],
   "source": [
    "# Some preliminary EDA\n",
    "# Checking Salesprice to see if any outliers exist\n",
    "sns.boxplot(res.SalePrice)"
   ]
  },
  {
   "cell_type": "code",
   "execution_count": 391,
   "metadata": {},
   "outputs": [
    {
     "data": {
      "text/html": [
       "<div>\n",
       "<table border=\"1\" class=\"dataframe\">\n",
       "  <thead>\n",
       "    <tr style=\"text-align: right;\">\n",
       "      <th></th>\n",
       "      <th>691</th>\n",
       "      <th>1182</th>\n",
       "    </tr>\n",
       "  </thead>\n",
       "  <tbody>\n",
       "    <tr>\n",
       "      <th>Id</th>\n",
       "      <td>692</td>\n",
       "      <td>1183</td>\n",
       "    </tr>\n",
       "    <tr>\n",
       "      <th>MSSubClass</th>\n",
       "      <td>60</td>\n",
       "      <td>60</td>\n",
       "    </tr>\n",
       "    <tr>\n",
       "      <th>MSZoning</th>\n",
       "      <td>RL</td>\n",
       "      <td>RL</td>\n",
       "    </tr>\n",
       "    <tr>\n",
       "      <th>LotFrontage</th>\n",
       "      <td>104</td>\n",
       "      <td>160</td>\n",
       "    </tr>\n",
       "    <tr>\n",
       "      <th>LotArea</th>\n",
       "      <td>21535</td>\n",
       "      <td>15623</td>\n",
       "    </tr>\n",
       "    <tr>\n",
       "      <th>Street</th>\n",
       "      <td>Pave</td>\n",
       "      <td>Pave</td>\n",
       "    </tr>\n",
       "    <tr>\n",
       "      <th>Alley</th>\n",
       "      <td>NaN</td>\n",
       "      <td>NaN</td>\n",
       "    </tr>\n",
       "    <tr>\n",
       "      <th>LotShape</th>\n",
       "      <td>IR1</td>\n",
       "      <td>IR1</td>\n",
       "    </tr>\n",
       "    <tr>\n",
       "      <th>LandContour</th>\n",
       "      <td>Lvl</td>\n",
       "      <td>Lvl</td>\n",
       "    </tr>\n",
       "    <tr>\n",
       "      <th>Utilities</th>\n",
       "      <td>AllPub</td>\n",
       "      <td>AllPub</td>\n",
       "    </tr>\n",
       "    <tr>\n",
       "      <th>LotConfig</th>\n",
       "      <td>Corner</td>\n",
       "      <td>Corner</td>\n",
       "    </tr>\n",
       "    <tr>\n",
       "      <th>LandSlope</th>\n",
       "      <td>Gtl</td>\n",
       "      <td>Gtl</td>\n",
       "    </tr>\n",
       "    <tr>\n",
       "      <th>Neighborhood</th>\n",
       "      <td>NoRidge</td>\n",
       "      <td>NoRidge</td>\n",
       "    </tr>\n",
       "    <tr>\n",
       "      <th>Condition1</th>\n",
       "      <td>Norm</td>\n",
       "      <td>Norm</td>\n",
       "    </tr>\n",
       "    <tr>\n",
       "      <th>Condition2</th>\n",
       "      <td>Norm</td>\n",
       "      <td>Norm</td>\n",
       "    </tr>\n",
       "    <tr>\n",
       "      <th>BldgType</th>\n",
       "      <td>1Fam</td>\n",
       "      <td>1Fam</td>\n",
       "    </tr>\n",
       "    <tr>\n",
       "      <th>HouseStyle</th>\n",
       "      <td>2Story</td>\n",
       "      <td>2Story</td>\n",
       "    </tr>\n",
       "    <tr>\n",
       "      <th>OverallQual</th>\n",
       "      <td>10</td>\n",
       "      <td>10</td>\n",
       "    </tr>\n",
       "    <tr>\n",
       "      <th>OverallCond</th>\n",
       "      <td>6</td>\n",
       "      <td>5</td>\n",
       "    </tr>\n",
       "  </tbody>\n",
       "</table>\n",
       "</div>"
      ],
      "text/plain": [
       "                 691      1182\n",
       "Id                692     1183\n",
       "MSSubClass         60       60\n",
       "MSZoning           RL       RL\n",
       "LotFrontage       104      160\n",
       "LotArea         21535    15623\n",
       "Street           Pave     Pave\n",
       "Alley             NaN      NaN\n",
       "LotShape          IR1      IR1\n",
       "LandContour       Lvl      Lvl\n",
       "Utilities      AllPub   AllPub\n",
       "LotConfig      Corner   Corner\n",
       "LandSlope         Gtl      Gtl\n",
       "Neighborhood  NoRidge  NoRidge\n",
       "Condition1       Norm     Norm\n",
       "Condition2       Norm     Norm\n",
       "BldgType         1Fam     1Fam\n",
       "HouseStyle     2Story   2Story\n",
       "OverallQual        10       10\n",
       "OverallCond         6        5"
      ]
     },
     "execution_count": 391,
     "metadata": {},
     "output_type": "execute_result"
    }
   ],
   "source": [
    "# A bunch of points lie outside the IQR, but most specifically are two points greater than $700k\n",
    "res[res.SalePrice > 700000].T.head(19)"
   ]
  },
  {
   "cell_type": "code",
   "execution_count": 392,
   "metadata": {},
   "outputs": [
    {
     "data": {
      "image/png": "[encoded data removed]",
      "text/plain": [
       "<matplotlib.figure.Figure at 0x12ef66d8>"
      ]
     },
     "metadata": {
      "image/png": {
       "height": 262,
       "width": 361
      }
     },
     "output_type": "display_data"
    }
   ],
   "source": [
    "# They're very expensive houses. And may deservedly be so, but they may throw our model off. Let's see if\n",
    "# other houses with overall quality rating of 10 cost about the same.\n",
    "sns.distplot(res[res.OverallQual == 10].SalePrice, kde=False)\n",
    "\n",
    "# It seems like most of the other houses fell in the $400-$500k range. So I am going to take these two houses off out.\n",
    "res = res[res.SalePrice < 700000]"
   ]
  },
  {
   "cell_type": "code",
   "execution_count": 393,
   "metadata": {
    "collapsed": true
   },
   "outputs": [],
   "source": [
    "# Make a subset based on FIXED characteristics\n",
    "fixed_sub = res.ix[:,fixed_list]"
   ]
  },
  {
   "cell_type": "code",
   "execution_count": 394,
   "metadata": {},
   "outputs": [
    {
     "data": {
      "text/plain": [
       "MSSubClass         0\n",
       "MSZoning           0\n",
       "LotFrontage      251\n",
       "LotArea            0\n",
       "Street             0\n",
       "Alley           1318\n",
       "LotShape           0\n",
       "LandContour        0\n",
       "Utilities          0\n",
       "LotConfig          0\n",
       "LandSlope          0\n",
       "Neighborhood       0\n",
       "Condition1         0\n",
       "Condition2         0\n",
       "BldgType           0\n",
       "HouseStyle         0\n",
       "YearBuilt          0\n",
       "Foundation         0\n",
       "BsmtQual          37\n",
       "TotalBsmtSF        0\n",
       "LowQualFinSF       0\n",
       "1stFlrSF           0\n",
       "2ndFlrSF           0\n",
       "GrLivArea          0\n",
       "BsmtFullBath       0\n",
       "BsmtHalfBath       0\n",
       "FullBath           0\n",
       "HalfBath           0\n",
       "BedroomAbvGr       0\n",
       "KitchenAbvGr       0\n",
       "TotRmsAbvGrd       0\n",
       "Fireplaces         0\n",
       "GarageType        79\n",
       "GarageYrBlt       79\n",
       "GarageCars         0\n",
       "GarageArea         0\n",
       "dtype: int64"
      ]
     },
     "execution_count": 394,
     "metadata": {},
     "output_type": "execute_result"
    }
   ],
   "source": [
    "fixed_sub.isnull().sum()"
   ]
  },
  {
   "cell_type": "code",
   "execution_count": 395,
   "metadata": {
    "collapsed": true
   },
   "outputs": [],
   "source": [
    "# Make a merged df that will return dummy features for categorical values\n",
    "\n",
    "def dummy_maker(df):\n",
    "    cat_dict = {}\n",
    "    for i in df.columns:\n",
    "        if len(df[i].value_counts()) < 50 and df[i].dtype == object:\n",
    "            cat_dict[i] = df[i].value_counts(dropna=False).index\n",
    "    \n",
    "    new_df = pd.concat([df,pd.get_dummies(df[cat_dict.keys()], dummy_na=True)], axis=1)\n",
    "    new_df.drop(cat_dict.keys(), axis=1, inplace=True)\n",
    "    new_df.drop(new_df.ix[:,new_df.sum()==0].columns, axis=1, inplace=True)\n",
    "    return new_df\n",
    "#     return cat_dict\n",
    "\n",
    "# Not the best looking df, but gives me what I want.\n",
    "fixed_df = dummy_maker(fixed_sub)\n",
    "\n",
    "\n",
    "# # using the keys to get only categorical values. Changing into numbers, and then adding 1 (because NaN returns -1)\n",
    "# test = res.loc[:,cat_dict.keys()].apply(lambda x: x.astype('category'))\n",
    "# test = test[test.select_dtypes(['category']).columns].apply(lambda x: x.cat.codes)\n",
    "# test = test.applymap(lambda x: x+1)"
   ]
  },
  {
   "cell_type": "code",
   "execution_count": 396,
   "metadata": {},
   "outputs": [
    {
     "name": "stdout",
     "output_type": "stream",
     "text": [
      "70.0\n",
      "0.818510484454\n"
     ]
    },
    {
     "data": {
      "image/png": "[encoded data removed]",
      "text/plain": [
       "<matplotlib.figure.Figure at 0xce2a8d0>"
      ]
     },
     "metadata": {
      "image/png": {
       "height": 248,
       "width": 386
      }
     },
     "output_type": "display_data"
    }
   ],
   "source": [
    "# Imputing the values for LotFrontage based on the median after looking at graph, which looks pretty normal.\n",
    "fixed_df.LotFrontage.plot(kind='hist', bins=40)\n",
    "\n",
    "print fixed_df.LotFrontage.median()\n",
    "\n",
    "print 1. - fixed_df.LotFrontage.isnull().sum()/float(fixed_df.shape[0])\n",
    "\n",
    "fixed_df.ix[fixed_df.LotFrontage.isnull(), 'LotFrontage'] = fixed_df.LotFrontage.median()"
   ]
  },
  {
   "cell_type": "code",
   "execution_count": 397,
   "metadata": {},
   "outputs": [
    {
     "data": {
      "text/plain": [
       "<matplotlib.axes._subplots.AxesSubplot at 0x128d2e10>"
      ]
     },
     "execution_count": 397,
     "metadata": {},
     "output_type": "execute_result"
    },
    {
     "data": {
      "image/png": "[encoded data removed]",
      "text/plain": [
       "<matplotlib.figure.Figure at 0xd19cba8>"
      ]
     },
     "metadata": {
      "image/png": {
       "height": 248,
       "width": 386
      }
     },
     "output_type": "display_data"
    }
   ],
   "source": [
    "# Imputing values for GarageYrBlt\n",
    "\n",
    "fixed_df.GarageYrBlt.plot(kind='hist')"
   ]
  },
  {
   "cell_type": "code",
   "execution_count": 398,
   "metadata": {},
   "outputs": [
    {
     "name": "stdout",
     "output_type": "stream",
     "text": [
      "0.740419378163\n"
     ]
    },
    {
     "data": {
      "image/png": "[encoded data removed]",
      "text/plain": [
       "<matplotlib.figure.Figure at 0xb952518>"
      ]
     },
     "metadata": {
      "image/png": {
       "height": 248,
       "width": 378
      }
     },
     "output_type": "display_data"
    }
   ],
   "source": [
    "# Garage Yr Blt is a bigger range, so some 'smart' imputing will have to be done\n",
    "plt.hist(fixed_df[~fixed_df.GarageYrBlt.isnull()].GarageYrBlt - fixed_df[~fixed_df.GarageYrBlt.isnull()].YearBuilt)\n",
    "\n",
    "# Counting how many obsv have the same garage and year built out of all obsv\n",
    "print fixed_df[fixed_df.GarageYrBlt == fixed_df.YearBuilt].GarageYrBlt.count() / float(fixed_df.shape[0])\n",
    "\n",
    "# Since almost 75% of the obsv have the same garage year and year built, the imputed values for GarageYrBlt = YearBuilt\n",
    "fixed_df.ix[fixed_df.GarageYrBlt.isnull(), 'GarageYrBlt'] = fixed_df.ix[fixed_df.GarageYrBlt.isnull(), 'YearBuilt']"
   ]
  },
  {
   "cell_type": "code",
   "execution_count": 399,
   "metadata": {},
   "outputs": [
    {
     "data": {
      "text/plain": [
       "0"
      ]
     },
     "execution_count": 399,
     "metadata": {},
     "output_type": "execute_result"
    }
   ],
   "source": [
    "# Last check for nulls in the fixed characteristics\n",
    "fixed_df.isnull().sum().sum()"
   ]
  },
  {
   "cell_type": "code",
   "execution_count": 400,
   "metadata": {
    "collapsed": true
   },
   "outputs": [],
   "source": [
    "# Doing a correlation matrix to find initial relationships between target and fixed predictors\n",
    "X_with_target = fixed_df.join(res.SalePrice)\n",
    "\n",
    "# As practice, will use the top 50 absolute predictors\n",
    "col = abs(X_with_target.corr().SalePrice).sort_values(ascending=False).head(51)\n",
    "col = col.ix[1:]\n",
    "col_list = col.index\n",
    "\n",
    "# Getting target variable\n",
    "y = res.SalePrice\n",
    "\n",
    "y_train = y.ix[res.YrSold < 2010]\n",
    "y_test = y.ix[res.YrSold == 2010]\n",
    "\n",
    "# Standardizing X variable\n",
    "from sklearn.preprocessing import StandardScaler\n",
    "\n",
    "X = fixed_df[col_list]\n",
    "\n",
    "X_train = X.ix[res.YrSold < 2010]\n",
    "X_test = X.ix[res.YrSold == 2010]\n",
    "\n",
    "ss = StandardScaler()\n",
    "Xs = ss.fit_transform(X_train)"
   ]
  },
  {
   "cell_type": "code",
   "execution_count": 401,
   "metadata": {},
   "outputs": [
    {
     "name": "stdout",
     "output_type": "stream",
     "text": [
      "0.754192478024\n"
     ]
    }
   ],
   "source": [
    "# Trying first model: Linear Regression\n",
    "from sklearn.linear_model import LinearRegression\n",
    "from sklearn.model_selection import cross_val_score\n",
    "\n",
    "linreg = LinearRegression()\n",
    "linreg.fit(X_train, y_train)\n",
    "\n",
    "Xs_test = ss.transform(X_test)\n",
    "\n",
    "scores = np.mean(cross_val_score(linreg, Xs_test, y_test, cv=5))\n",
    "print scores"
   ]
  },
  {
   "cell_type": "code",
   "execution_count": 402,
   "metadata": {},
   "outputs": [
    {
     "name": "stdout",
     "output_type": "stream",
     "text": [
      "0.740029835975 215641.823764\n",
      "Best predictors based on lasso are: ['GrLivArea' 'GarageArea' 'TotalBsmtSF' 'YearBuilt' '2ndFlrSF' 'LotArea']\n"
     ]
    }
   ],
   "source": [
    "# 50 predictors is most likely too much. Performing lasso regression to limit the amount of predictors\n",
    "from sklearn.linear_model import LassoCV\n",
    "\n",
    "las = LassoCV(n_alphas=50, cv=10)\n",
    "las.fit(X_train, y_train)\n",
    "coeffs = las.coef_\n",
    "las_score = las.score(X_test, y_test)\n",
    "las_alpha = las.alpha_\n",
    "print las_score, las_alpha\n",
    "# Lasso regression improved the score.\n",
    "\n",
    "# After lasso regression, only 6 predictors last.\n",
    "lasso_df = pd.DataFrame([coeffs, col_list], index=['Coeffs', 'Variable']).T\n",
    "lasso_df = lasso_df[lasso_df.Coeffs !=0]\n",
    "new_col = lasso_df.Variable.values\n",
    "\n",
    "# The best predictors are:\n",
    "print 'Best predictors based on lasso are:', new_col"
   ]
  },
  {
   "cell_type": "code",
   "execution_count": 403,
   "metadata": {},
   "outputs": [
    {
     "name": "stdout",
     "output_type": "stream",
     "text": [
      "0.750624959789\n"
     ]
    },
    {
     "data": {
      "image/png": "[encoded data removed]",
      "text/plain": [
       "<matplotlib.figure.Figure at 0x12a52a58>"
      ]
     },
     "metadata": {
      "image/png": {
       "height": 262,
       "width": 403
      }
     },
     "output_type": "display_data"
    }
   ],
   "source": [
    "new_Xtr = X_train[[c for c in new_col]]\n",
    "new_Xte = X_test[[c for c in new_col]]\n",
    "new_lm = LinearRegression()\n",
    "new_lm.fit(new_Xtr, y_train)\n",
    "yhat = new_lm.predict(new_Xte)\n",
    "\n",
    "sns.regplot(x=yhat, y=y_test)\n",
    "plt.xlabel('y based on model')\n",
    "plt.ylabel('y_test, Sales Price from 2010')\n",
    "\n",
    "print new_lm.score(new_Xte, y_test)"
   ]
  },
  {
   "cell_type": "code",
   "execution_count": 404,
   "metadata": {},
   "outputs": [
    {
     "name": "stdout",
     "output_type": "stream",
     "text": [
      "['GrLivArea' 'GarageCars' 'BsmtQual_Ex' 'Neighborhood_NridgHt'\n",
      " 'Neighborhood_NoRidge' 'LotArea'] ['GrLivArea' 'GarageCars' 'BsmtQual_Ex' 'Neighborhood_NridgHt'\n",
      " 'Neighborhood_NoRidge' 'LotArea']\n"
     ]
    }
   ],
   "source": [
    "# Seeing if those features were the best features to choose based on feature selection\n",
    "from sklearn.feature_selection import SelectKBest, chi2, f_classif\n",
    "\n",
    "selection = SelectKBest(f_classif, k=6)\n",
    "selection.fit_transform(X_train, y_train)\n",
    "sel_arr = selection.get_support()\n",
    "f_col = X_train.columns.values[sel_arr]\n",
    "\n",
    "chi_selection = SelectKBest(chi2, k=6)\n",
    "chi_selection.fit_transform(X_train, y_train)\n",
    "chi_sel_arr = selection.get_support()\n",
    "chi_col = X_train.columns.values[chi_sel_arr]\n",
    "\n",
    "print f_col, chi_col"
   ]
  },
  {
   "cell_type": "code",
   "execution_count": 405,
   "metadata": {},
   "outputs": [
    {
     "name": "stdout",
     "output_type": "stream",
     "text": [
      "F_class feature selection score is: -313.773575623\n",
      "Chi2 feature selection score is: -313.773575623\n"
     ]
    }
   ],
   "source": [
    "Xtr_f = X_train[[c for c in f_col]]\n",
    "Xte_f = X_test[[c for c in f_col]]\n",
    "lm = LinearRegression()\n",
    "lm.fit(Xtr_f, y_train)\n",
    "yhat_f = lm.predict(Xte_f)\n",
    "\n",
    "print 'F_class feature selection score is:', new_lm.score(Xte_f, y_test)\n",
    "\n",
    "Xtr_chi = X_train[[c for c in chi_col]]\n",
    "Xte_chi = X_test[[c for c in chi_col]]\n",
    "lm = LinearRegression()\n",
    "lm.fit(Xtr_chi, y_train)\n",
    "yhat_chi = lm.predict(Xte_chi)\n",
    "\n",
    "print 'Chi2 feature selection score is:', new_lm.score(Xte_chi, y_test)"
   ]
  },
  {
   "cell_type": "code",
   "execution_count": 406,
   "metadata": {},
   "outputs": [
    {
     "data": {
      "image/png": "[encoded data removed]",
      "text/plain": [
       "<matplotlib.figure.Figure at 0x1179f2b0>"
      ]
     },
     "metadata": {
      "image/png": {
       "height": 482,
       "width": 574
      }
     },
     "output_type": "display_data"
    }
   ],
   "source": [
    "# Set init variables\n",
    "heatmap_col = new_col.tolist()\n",
    "heatmap_col.append('SalePrice')\n",
    "df = X_with_target[heatmap_col]\n",
    "corr = df.corr()\n",
    "\n",
    "# Set the default matplotlib figure size to 7x7:\n",
    "fix, ax = plt.subplots(figsize=(9,7))\n",
    "\n",
    "# Generate a mask for the upper triangle (taken from seaborn example gallery)\n",
    "mask = np.zeros_like(corr, dtype=np.bool)\n",
    "mask[np.triu_indices_from(mask)] = True\n",
    "\n",
    "# Plot the heatmap with seaborn.\n",
    "# Assign the matplotlib axis the function returns. This will let us resize the labels.\n",
    "ax = sns.heatmap(corr, mask=mask, annot=True, ax=ax)\n",
    "\n",
    "# Resize the labels.\n",
    "ax.set_xticklabels(ax.xaxis.get_ticklabels(), fontsize=14, rotation='vertical')\n",
    "ax.set_yticklabels(ax.yaxis.get_ticklabels(), fontsize=14)\n",
    "\n",
    "# If you put plt.show() at the bottom, it prevents those useless printouts from matplotlib.\n",
    "plt.show()"
   ]
  },
  {
   "cell_type": "markdown",
   "metadata": {},
   "source": [
    "<img src=\"http://imgur.com/l5NasQj.png\" style=\"float: left; margin: 25px 15px 0px 0px; height: 25px\">\n",
    "\n",
    "## 2. Determine any value of *changeable* property characteristics unexplained by the *fixed* ones.\n",
    "\n",
    "---\n",
    "\n",
    "Now that you have a model that estimates the price of a house based on its static characteristics, we can move forward with part 2 and 3 of the plan: what are the costs/benefits of quality, condition, and renovations?\n",
    "\n",
    "There are two specific requirements for these estimates:\n",
    "1. The estimates of effects must be in terms of dollars added or subtracted from the house value. \n",
    "2. The effects must be on the variance in price remaining from the first model.\n",
    "\n",
    "The residuals from the first model (training and testing) represent the variance in price unexplained by the fixed characteristics. Of that variance in price remaining, how much of it can be explained by the easy-to-change aspects of the property?\n",
    "\n",
    "---\n",
    "\n",
    "**Your goals:**\n",
    "1. Evaluate the effect in dollars of the renovate-able features. \n",
    "- How would your company use this second model and its coefficients to determine whether they should buy a property or not? Explain how the company can use the two models you have built to determine if they can make money. \n",
    "- Investigate how much of the variance in price remaining is explained by these features.\n",
    "- Do you trust your model? Should it be used to evaluate which properties to buy and fix up?"
   ]
  },
  {
   "cell_type": "code",
   "execution_count": 407,
   "metadata": {},
   "outputs": [
    {
     "data": {
      "text/plain": [
       "count      1383.000000\n",
       "mean       -235.963102\n",
       "std       41624.158320\n",
       "min     -286533.635185\n",
       "25%      -14784.774889\n",
       "50%        3704.444890\n",
       "75%       19606.107000\n",
       "max      556085.393602\n",
       "Name: SalePrice, dtype: float64"
      ]
     },
     "execution_count": 407,
     "metadata": {},
     "output_type": "execute_result"
    }
   ],
   "source": [
    "# A:\n",
    "# Getting yhat of training set\n",
    "new_Xtr = X_train[[c for c in new_col]]\n",
    "new_lm = LinearRegression()\n",
    "new_lm.fit(new_Xtr, y_train)\n",
    "yhat_tr = new_lm.predict(new_Xtr)\n",
    "\n",
    "# making two residual df. One of train and one of test\n",
    "resid_train = yhat_tr - y_train\n",
    "resid_test = yhat - y_test\n",
    "resid = pd.concat([resid_train, resid_test])\n",
    "resid.sort_index(inplace=True)\n",
    "resid.describe()"
   ]
  },
  {
   "cell_type": "code",
   "execution_count": 408,
   "metadata": {},
   "outputs": [
    {
     "data": {
      "text/html": [
       "<div>\n",
       "<table border=\"1\" class=\"dataframe\">\n",
       "  <thead>\n",
       "    <tr style=\"text-align: right;\">\n",
       "      <th></th>\n",
       "      <th>OverallQual</th>\n",
       "      <th>OverallCond</th>\n",
       "      <th>YearRemodAdd</th>\n",
       "      <th>MasVnrArea</th>\n",
       "      <th>BsmtFinSF1</th>\n",
       "      <th>BsmtFinSF2</th>\n",
       "      <th>BsmtUnfSF</th>\n",
       "      <th>ScreenPorch</th>\n",
       "      <th>WoodDeckSF</th>\n",
       "      <th>OpenPorchSF</th>\n",
       "      <th>EnclosedPorch</th>\n",
       "      <th>3SsnPorch</th>\n",
       "      <th>PoolArea</th>\n",
       "      <th>MiscVal</th>\n",
       "      <th>Residual</th>\n",
       "    </tr>\n",
       "  </thead>\n",
       "  <tbody>\n",
       "    <tr>\n",
       "      <th>count</th>\n",
       "      <td>1378.000000</td>\n",
       "      <td>1378.000000</td>\n",
       "      <td>1378.000000</td>\n",
       "      <td>1378.000000</td>\n",
       "      <td>1378.000000</td>\n",
       "      <td>1378.000000</td>\n",
       "      <td>1378.000000</td>\n",
       "      <td>1378.000000</td>\n",
       "      <td>1378.000000</td>\n",
       "      <td>1378.000000</td>\n",
       "      <td>1378.000000</td>\n",
       "      <td>1378.000000</td>\n",
       "      <td>1378.000000</td>\n",
       "      <td>1378.000000</td>\n",
       "      <td>1378.000000</td>\n",
       "    </tr>\n",
       "    <tr>\n",
       "      <th>mean</th>\n",
       "      <td>6.052975</td>\n",
       "      <td>5.611756</td>\n",
       "      <td>1984.055878</td>\n",
       "      <td>102.068940</td>\n",
       "      <td>446.846880</td>\n",
       "      <td>49.319303</td>\n",
       "      <td>563.058781</td>\n",
       "      <td>15.741655</td>\n",
       "      <td>96.312772</td>\n",
       "      <td>43.611756</td>\n",
       "      <td>22.516691</td>\n",
       "      <td>3.612482</td>\n",
       "      <td>2.520319</td>\n",
       "      <td>45.631350</td>\n",
       "      <td>-184.752277</td>\n",
       "    </tr>\n",
       "    <tr>\n",
       "      <th>std</th>\n",
       "      <td>1.363262</td>\n",
       "      <td>1.125814</td>\n",
       "      <td>20.574266</td>\n",
       "      <td>172.089741</td>\n",
       "      <td>456.036668</td>\n",
       "      <td>165.640912</td>\n",
       "      <td>443.809165</td>\n",
       "      <td>57.017191</td>\n",
       "      <td>126.842391</td>\n",
       "      <td>63.372934</td>\n",
       "      <td>62.023317</td>\n",
       "      <td>30.165473</td>\n",
       "      <td>38.579309</td>\n",
       "      <td>510.379485</td>\n",
       "      <td>41408.781659</td>\n",
       "    </tr>\n",
       "    <tr>\n",
       "      <th>min</th>\n",
       "      <td>1.000000</td>\n",
       "      <td>1.000000</td>\n",
       "      <td>1950.000000</td>\n",
       "      <td>0.000000</td>\n",
       "      <td>0.000000</td>\n",
       "      <td>0.000000</td>\n",
       "      <td>0.000000</td>\n",
       "      <td>0.000000</td>\n",
       "      <td>0.000000</td>\n",
       "      <td>0.000000</td>\n",
       "      <td>0.000000</td>\n",
       "      <td>0.000000</td>\n",
       "      <td>0.000000</td>\n",
       "      <td>0.000000</td>\n",
       "      <td>-286533.635185</td>\n",
       "    </tr>\n",
       "    <tr>\n",
       "      <th>25%</th>\n",
       "      <td>5.000000</td>\n",
       "      <td>5.000000</td>\n",
       "      <td>1966.000000</td>\n",
       "      <td>0.000000</td>\n",
       "      <td>0.000000</td>\n",
       "      <td>0.000000</td>\n",
       "      <td>216.000000</td>\n",
       "      <td>0.000000</td>\n",
       "      <td>0.000000</td>\n",
       "      <td>0.000000</td>\n",
       "      <td>0.000000</td>\n",
       "      <td>0.000000</td>\n",
       "      <td>0.000000</td>\n",
       "      <td>0.000000</td>\n",
       "      <td>-14796.407807</td>\n",
       "    </tr>\n",
       "    <tr>\n",
       "      <th>50%</th>\n",
       "      <td>6.000000</td>\n",
       "      <td>5.000000</td>\n",
       "      <td>1992.000000</td>\n",
       "      <td>0.000000</td>\n",
       "      <td>384.000000</td>\n",
       "      <td>0.000000</td>\n",
       "      <td>471.500000</td>\n",
       "      <td>0.000000</td>\n",
       "      <td>0.000000</td>\n",
       "      <td>21.000000</td>\n",
       "      <td>0.000000</td>\n",
       "      <td>0.000000</td>\n",
       "      <td>0.000000</td>\n",
       "      <td>0.000000</td>\n",
       "      <td>3558.794366</td>\n",
       "    </tr>\n",
       "    <tr>\n",
       "      <th>75%</th>\n",
       "      <td>7.000000</td>\n",
       "      <td>6.000000</td>\n",
       "      <td>2003.000000</td>\n",
       "      <td>168.000000</td>\n",
       "      <td>713.750000</td>\n",
       "      <td>0.000000</td>\n",
       "      <td>802.500000</td>\n",
       "      <td>0.000000</td>\n",
       "      <td>168.000000</td>\n",
       "      <td>64.000000</td>\n",
       "      <td>0.000000</td>\n",
       "      <td>0.000000</td>\n",
       "      <td>0.000000</td>\n",
       "      <td>0.000000</td>\n",
       "      <td>19607.683706</td>\n",
       "    </tr>\n",
       "    <tr>\n",
       "      <th>max</th>\n",
       "      <td>10.000000</td>\n",
       "      <td>9.000000</td>\n",
       "      <td>2010.000000</td>\n",
       "      <td>1378.000000</td>\n",
       "      <td>5644.000000</td>\n",
       "      <td>1474.000000</td>\n",
       "      <td>2336.000000</td>\n",
       "      <td>480.000000</td>\n",
       "      <td>857.000000</td>\n",
       "      <td>547.000000</td>\n",
       "      <td>552.000000</td>\n",
       "      <td>508.000000</td>\n",
       "      <td>738.000000</td>\n",
       "      <td>15500.000000</td>\n",
       "      <td>556085.393602</td>\n",
       "    </tr>\n",
       "  </tbody>\n",
       "</table>\n",
       "</div>"
      ],
      "text/plain": [
       "       OverallQual  OverallCond  YearRemodAdd   MasVnrArea   BsmtFinSF1  \\\n",
       "count  1378.000000  1378.000000   1378.000000  1378.000000  1378.000000   \n",
       "mean      6.052975     5.611756   1984.055878   102.068940   446.846880   \n",
       "std       1.363262     1.125814     20.574266   172.089741   456.036668   \n",
       "min       1.000000     1.000000   1950.000000     0.000000     0.000000   \n",
       "25%       5.000000     5.000000   1966.000000     0.000000     0.000000   \n",
       "50%       6.000000     5.000000   1992.000000     0.000000   384.000000   \n",
       "75%       7.000000     6.000000   2003.000000   168.000000   713.750000   \n",
       "max      10.000000     9.000000   2010.000000  1378.000000  5644.000000   \n",
       "\n",
       "        BsmtFinSF2    BsmtUnfSF  ScreenPorch   WoodDeckSF  OpenPorchSF  \\\n",
       "count  1378.000000  1378.000000  1378.000000  1378.000000  1378.000000   \n",
       "mean     49.319303   563.058781    15.741655    96.312772    43.611756   \n",
       "std     165.640912   443.809165    57.017191   126.842391    63.372934   \n",
       "min       0.000000     0.000000     0.000000     0.000000     0.000000   \n",
       "25%       0.000000   216.000000     0.000000     0.000000     0.000000   \n",
       "50%       0.000000   471.500000     0.000000     0.000000    21.000000   \n",
       "75%       0.000000   802.500000     0.000000   168.000000    64.000000   \n",
       "max    1474.000000  2336.000000   480.000000   857.000000   547.000000   \n",
       "\n",
       "       EnclosedPorch    3SsnPorch     PoolArea       MiscVal       Residual  \n",
       "count    1378.000000  1378.000000  1378.000000   1378.000000    1378.000000  \n",
       "mean       22.516691     3.612482     2.520319     45.631350    -184.752277  \n",
       "std        62.023317    30.165473    38.579309    510.379485   41408.781659  \n",
       "min         0.000000     0.000000     0.000000      0.000000 -286533.635185  \n",
       "25%         0.000000     0.000000     0.000000      0.000000  -14796.407807  \n",
       "50%         0.000000     0.000000     0.000000      0.000000    3558.794366  \n",
       "75%         0.000000     0.000000     0.000000      0.000000   19607.683706  \n",
       "max       552.000000   508.000000   738.000000  15500.000000  556085.393602  "
      ]
     },
     "execution_count": 408,
     "metadata": {},
     "output_type": "execute_result"
    }
   ],
   "source": [
    "# EDA on the dataset.\n",
    "renov_sub.describe()"
   ]
  },
  {
   "cell_type": "code",
   "execution_count": 409,
   "metadata": {},
   "outputs": [
    {
     "data": {
      "text/plain": [
       "OverallQual         0\n",
       "OverallCond         0\n",
       "YearRemodAdd        0\n",
       "RoofStyle           0\n",
       "RoofMatl            0\n",
       "Exterior1st         0\n",
       "Exterior2nd         0\n",
       "MasVnrType          0\n",
       "MasVnrArea          0\n",
       "ExterQual           0\n",
       "ExterCond           0\n",
       "BsmtCond           37\n",
       "BsmtExposure       37\n",
       "BsmtFinType1       37\n",
       "BsmtFinSF1          0\n",
       "BsmtFinSF2          0\n",
       "BsmtFinType2       37\n",
       "BsmtUnfSF           0\n",
       "Heating             0\n",
       "HeatingQC           0\n",
       "CentralAir          0\n",
       "Electrical          1\n",
       "KitchenQual         0\n",
       "Functional          0\n",
       "FireplaceQu       640\n",
       "GarageFinish       79\n",
       "GarageQual         79\n",
       "ScreenPorch         0\n",
       "GarageCond         79\n",
       "PavedDrive          0\n",
       "WoodDeckSF          0\n",
       "OpenPorchSF         0\n",
       "EnclosedPorch       0\n",
       "3SsnPorch           0\n",
       "PoolArea            0\n",
       "PoolQC           1372\n",
       "Fence            1102\n",
       "MiscFeature      1326\n",
       "MiscVal             0\n",
       "Residual            0\n",
       "dtype: int64"
      ]
     },
     "execution_count": 409,
     "metadata": {},
     "output_type": "execute_result"
    }
   ],
   "source": [
    "# Combining target with rest of dataset in case we drop any values\n",
    "renov_sub['Residual'] = resid\n",
    "\n",
    "# Checking MasVnrType and MasVnrArea, which are null at the same rows\n",
    "renov_sub.MasVnrType.value_counts(dropna=False)\n",
    "\n",
    "# There is already a None category for houses without mason veneers. Since this information won't be able to give\n",
    "# much info, I'm going to drop these 5 obvs.\n",
    "renov_sub = renov_sub[~renov_sub.MasVnrType.isnull()]\n",
    "renov_sub.isnull().sum()"
   ]
  },
  {
   "cell_type": "code",
   "execution_count": 410,
   "metadata": {},
   "outputs": [
    {
     "name": "stdout",
     "output_type": "stream",
     "text": [
      "No    894\n",
      "Av    209\n",
      "Gd    132\n",
      "Mn    106\n",
      "Name: BsmtExposure, dtype: int64\n",
      "Unf    1175\n",
      "Rec      54\n",
      "LwQ      46\n",
      "BLQ      33\n",
      "ALQ      19\n",
      "GLQ      14\n",
      "Name: BsmtFinType2, dtype: int64\n"
     ]
    }
   ],
   "source": [
    "# Checking BsmtCond, Exposure and Finish Type1. NA means that the house has no basement. I can't logically take it away\n",
    "# So it will have to be labeled as a dummy variable. However, there is one value in BsmtExposure that isn't in the others\n",
    "# There is also an extra BsmtFinType2\n",
    "renov_sub[(renov_sub.BsmtExposure.isnull()) & (~renov_sub.BsmtCond.isnull())][['BsmtCond', 'BsmtFinType1']]\n",
    "renov_sub[(renov_sub.BsmtFinType2.isnull()) & (~renov_sub.BsmtCond.isnull())][['BsmtCond', 'BsmtFinType1']]\n",
    "\n",
    "# Going to use the mode for imputing BsmtExposure & BsmtFinType2\n",
    "print renov_sub.BsmtExposure.value_counts()\n",
    "renov_sub.ix[948, 'BsmtExposure'] = 'No'\n",
    "\n",
    "print renov_sub.BsmtFinType2.value_counts()\n",
    "renov_sub.ix[332, 'BsmtFinType2'] = 'Unf'"
   ]
  },
  {
   "cell_type": "code",
   "execution_count": 411,
   "metadata": {},
   "outputs": [
    {
     "data": {
      "text/plain": [
       "0"
      ]
     },
     "execution_count": 411,
     "metadata": {},
     "output_type": "execute_result"
    }
   ],
   "source": [
    "# Perform dummy variable function on renovatable feature set\n",
    "renov_df = dummy_maker(renov_sub)\n",
    "renov_df.isnull().sum().sum()"
   ]
  },
  {
   "cell_type": "code",
   "execution_count": 421,
   "metadata": {},
   "outputs": [],
   "source": [
    "# Perform the same operations in previous example except with different y and X matrices\n",
    "\n",
    "# Doing a correlation matrix to find initial relationships between target and fixed predictors\n",
    "# As practice, will use the top 50 absolute predictors\n",
    "renov_df.corr().Residual\n",
    "col = abs(renov_df.corr().Residual).sort_values(ascending=False).head(51)\n",
    "col = col.ix[1:]\n",
    "col_list = col.index\n",
    "\n",
    "# Getting target variable\n",
    "y = renov_df.Residual\n",
    "\n",
    "y_train = y.ix[res.YrSold < 2010]\n",
    "y_test = y.ix[res.YrSold == 2010]\n",
    "\n",
    "# Standardizing X variable\n",
    "\n",
    "X = renov_df[col_list]\n",
    "\n",
    "X_train = X.ix[res.YrSold < 2010]\n",
    "X_test = X.ix[res.YrSold == 2010]\n",
    "\n",
    "ss = StandardScaler()\n",
    "Xs = ss.fit_transform(X_train)"
   ]
  },
  {
   "cell_type": "code",
   "execution_count": 422,
   "metadata": {},
   "outputs": [
    {
     "name": "stdout",
     "output_type": "stream",
     "text": [
      "0.512325221077\n"
     ]
    }
   ],
   "source": [
    "# Trying first model: Linear Regression\n",
    "linreg = LinearRegression()\n",
    "linreg.fit(X_train, y_train)\n",
    "\n",
    "Xs_test = ss.transform(X_test)\n",
    "\n",
    "scores = np.mean(cross_val_score(linreg, Xs_test, y_test, cv=5))\n",
    "print scores"
   ]
  },
  {
   "cell_type": "code",
   "execution_count": 427,
   "metadata": {},
   "outputs": [
    {
     "name": "stdout",
     "output_type": "stream",
     "text": [
      "0.217735246569 1242.89212325\n"
     ]
    }
   ],
   "source": [
    "# Pretty bad score using the top 50 largets absolute correlations. Going to use lasso again to hopefully\n",
    "# eliminate non-essential predictors\n",
    "\n",
    "las = LassoCV(n_alphas=50, cv=10)\n",
    "las.fit(X_train, y_train)\n",
    "coeffs = las.coef_\n",
    "las_score = las.score(X_test, y_test)\n",
    "las_alpha = las.alpha_\n",
    "print las_score, las_alpha\n",
    "# Lasso regression improved the score.\n",
    "\n",
    "# After lasso regression, only 6 predictors last.\n",
    "lasso_df = pd.DataFrame([coeffs, col_list], index=['Coeffs', 'Variable']).T\n",
    "lasso_df = lasso_df[lasso_df.Coeffs !=0]\n",
    "new_col = lasso_df.Variable.values"
   ]
  },
  {
   "cell_type": "code",
   "execution_count": 442,
   "metadata": {},
   "outputs": [
    {
     "data": {
      "text/plain": [
       "GridSearchCV(cv=10, error_score='raise',\n",
       "       estimator=ElasticNetCV(alphas=None, copy_X=True, cv=None, eps=0.001, fit_intercept=True,\n",
       "       l1_ratio=0.5, max_iter=1000, n_alphas=100, n_jobs=1,\n",
       "       normalize=False, positive=False, precompute='auto',\n",
       "       random_state=None, selection='cyclic', tol=0.0001, verbose=0),\n",
       "       fit_params={}, iid=True, n_jobs=1,\n",
       "       param_grid={'l1_ratio': [0.25, 0.5, 0.75, 1], 'n_alphas': [5, 10, 25, 50, 75, 100]},\n",
       "       pre_dispatch='2*n_jobs', refit=True, return_train_score=True,\n",
       "       scoring=None, verbose=0)"
      ]
     },
     "execution_count": 442,
     "metadata": {},
     "output_type": "execute_result"
    }
   ],
   "source": [
    "# LassoCV score is actually lower than regular cv-MLR. Going to use ElasticNet in a gridsearch\n",
    "from sklearn.linear_model import ElasticNetCV\n",
    "from sklearn.model_selection import GridSearchCV\n",
    "\n",
    "en_param = {\n",
    "    'l1_ratio':[0.25, 0.5, 0.75, 1],\n",
    "    'n_alphas':[5, 10, 25, 50, 75, 100]\n",
    "}\n",
    "\n",
    "gs = GridSearchCV(ElasticNetCV(), en_param, cv=10)\n",
    "gs.fit(X_train, y_train)"
   ]
  },
  {
   "cell_type": "code",
   "execution_count": 444,
   "metadata": {},
   "outputs": [
    {
     "data": {
      "text/plain": [
       "0.18943081254704267"
      ]
     },
     "execution_count": 444,
     "metadata": {},
     "output_type": "execute_result"
    }
   ],
   "source": [
    "gs.best_params_\n",
    "gs.best_score_"
   ]
  },
  {
   "cell_type": "code",
   "execution_count": 452,
   "metadata": {},
   "outputs": [
    {
     "name": "stdout",
     "output_type": "stream",
     "text": [
      "\n"
     ]
    }
   ],
   "source": [
    "# Seeing if those features were the best features to choose based on feature selection\n",
    "selection = SelectKBest(f_classif, k=6)\n",
    "selection.fit_transform(X_train, y_train)\n",
    "sel_arr = selection.get_support()\n",
    "f_col = X_train.columns.values[sel_arr]\n",
    "\n",
    "# chi_selection = SelectKBest(chi2, k=6)\n",
    "# chi_selection.fit_transform(X_train, y_train)\n",
    "# chi_sel_arr = selection.get_support()\n",
    "# chi_col = X_train.columns.values[chi_sel_arr]\n",
    "\n",
    "# print f_col, chi_col"
   ]
  },
  {
   "cell_type": "code",
   "execution_count": 453,
   "metadata": {},
   "outputs": [
    {
     "name": "stdout",
     "output_type": "stream",
     "text": [
      "F_class feature selection score is: -1098.29440272\n"
     ]
    }
   ],
   "source": [
    "Xtr_f = X_train[[c for c in f_col]]\n",
    "Xte_f = X_test[[c for c in f_col]]\n",
    "lm = LinearRegression()\n",
    "lm.fit(Xtr_f, y_train)\n",
    "yhat_f = lm.predict(Xte_f)\n",
    "\n",
    "print 'F_class feature selection score is:', new_lm.score(Xte_f, y_test)\n",
    "\n",
    "# Xtr_chi = X_train[[c for c in chi_col]]\n",
    "# Xte_chi = X_test[[c for c in chi_col]]\n",
    "# lm = LinearRegression()\n",
    "# lm.fit(Xtr_chi, y_train)\n",
    "# yhat_chi = lm.predict(Xte_chi)\n",
    "\n",
    "# print 'Chi2 feature selection score is:', new_lm.score(Xte_chi, y_test)"
   ]
  },
  {
   "cell_type": "markdown",
   "metadata": {},
   "source": [
    "<img src=\"http://imgur.com/GCAf1UX.png\" style=\"float: left; margin: 25px 15px 0px 0px; height: 25px\">\n",
    "\n",
    "## 3. What property characteristics predict an \"abnormal\" sale?\n",
    "\n",
    "---\n",
    "\n",
    "The `SaleCondition` feature indicates the circumstances of the house sale. From the data file, we can see that the possibilities are:\n",
    "\n",
    "       Normal\tNormal Sale\n",
    "       Abnorml\tAbnormal Sale -  trade, foreclosure, short sale\n",
    "       AdjLand\tAdjoining Land Purchase\n",
    "       Alloca\tAllocation - two linked properties with separate deeds, typically condo with a garage unit\t\n",
    "       Family\tSale between family members\n",
    "       Partial\tHome was not completed when last assessed (associated with New Homes)\n",
    "       \n",
    "One of the executives at your company has an \"in\" with higher-ups at the major regional bank. His friends at the bank have made him a proposal: if he can reliably indicate what features, if any, predict \"abnormal\" sales (foreclosures, short sales, etc.), then in return the bank will give him first dibs on the pre-auction purchase of those properties (at a dirt-cheap price).\n",
    "\n",
    "He has tasked you with determining (and adequately validating) which features of a property predict this type of sale. \n",
    "\n",
    "---\n",
    "\n",
    "**Your task:**\n",
    "1. Determine which features predict the `Abnorml` category in the `SaleCondition` feature.\n",
    "- Justify your results.\n",
    "\n",
    "This is a challenging task that tests your ability to perform classification analysis in the face of severe class imbalance. You may find that simply running a classifier on the full dataset to predict the category ends up useless: when there is bad class imbalance classifiers often tend to simply guess the majority class.\n",
    "\n",
    "It is up to you to determine how you will tackle this problem. I recommend doing some research to find out how others have dealt with the problem in the past. Make sure to justify your solution. Don't worry about it being \"the best\" solution, but be rigorous.\n",
    "\n",
    "Be sure to indicate which features are predictive (if any) and whether they are positive or negative predictors of abnormal sales."
   ]
  },
  {
   "cell_type": "code",
   "execution_count": 26,
   "metadata": {
    "collapsed": true
   },
   "outputs": [],
   "source": [
    "# A:"
   ]
  }
 ],
 "metadata": {
  "kernelspec": {
   "display_name": "Python 2",
   "language": "python",
   "name": "python2"
  },
  "language_info": {
   "codemirror_mode": {
    "name": "ipython",
    "version": 2
   },
   "file_extension": ".py",
   "mimetype": "text/x-python",
   "name": "python",
   "nbconvert_exporter": "python",
   "pygments_lexer": "ipython2",
   "version": "2.7.13"
  }
 },
 "nbformat": 4,
 "nbformat_minor": 2
}
